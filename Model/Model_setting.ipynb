{
  "nbformat": 4,
  "nbformat_minor": 0,
  "metadata": {
    "colab": {
      "name": "Model setting.ipynb",
      "provenance": [],
      "collapsed_sections": []
    },
    "kernelspec": {
      "name": "python3",
      "display_name": "Python 3"
    },
    "language_info": {
      "name": "python"
    }
  },
  "cells": [
    {
      "cell_type": "markdown",
      "source": [
        "# Base AE Model - AutoEncoder"
      ],
      "metadata": {
        "id": "K-ELWlx8KzS8"
      }
    },
    {
      "cell_type": "code",
      "execution_count": null,
      "metadata": {
        "id": "s6PRk8TyKv7M"
      },
      "outputs": [],
      "source": [
        "import tensorflow as tf\n",
        "import numpy as np\n",
        "import torch\n",
        "import torch.nn as nn\n",
        "import torch.optim as optim\n",
        "from torch.utils.data import Dataset, DataLoader\n",
        "import pandas as pd\n",
        "\n",
        "# AutoEncoder\n",
        "class AutoEncoder(nn.Module):\n",
        "  def __init__(self, input_dim, output_dim, code_size=2):\n",
        "    super(AutoEncoder, self).__init__()\n",
        "\n",
        "    self.input_dim = input_dim\n",
        "    self.output_dim = output_dim\n",
        "\n",
        "    self.encoder = nn.Sequential(\n",
        "        nn.Linear(input_dim, code_size),\n",
        "        nn.BatchNorm1d(2),\n",
        "        nn.ReLU(),\n",
        "    )\n",
        "\n",
        "    self.decoder = nn.Sequential(\n",
        "        nn.Linear(code_size, output_dim),\n",
        "        nn.Sigmoid()\n",
        "    )\n",
        "\n",
        "  def forward(self,x):\n",
        "    encoded = self.encoder(x)\n",
        "    decoded = self.decoder(encoded)\n",
        "    return encoded, decoded"
      ]
    },
    {
      "cell_type": "markdown",
      "source": [
        "# Stacked AE - StackedAutoEncoder"
      ],
      "metadata": {
        "id": "XjFXh4pcL4Hr"
      }
    },
    {
      "cell_type": "code",
      "source": [
        "import tensorflow as tf\n",
        "import numpy as np\n",
        "import torch\n",
        "import torch.nn as nn\n",
        "import torch.optim as optim\n",
        "from torch.utils.data import Dataset, DataLoader\n",
        "import pandas as pd\n",
        "\n",
        "# AE + stack + dropout\n",
        "class StackedAutoEncoder(nn.Module):\n",
        "  def __init__(self, input_dim, output_dim, code_size=2):\n",
        "    super(StackedAutoEncoder, self).__init__()\n",
        "\n",
        "    self.input_dim = input_dim\n",
        "    self.output_dim = output_dim\n",
        "\n",
        "    self.encoder = nn.Sequential(\n",
        "        nn.Linear(input_dim, 64),\n",
        "        nn.ReLU(),\n",
        "        nn.Dropout(0.5),\n",
        "        nn.Linear(64, 16),\n",
        "        nn.ReLU(),\n",
        "        nn.Dropout(0.5),\n",
        "        nn.Linear(16, 8),\n",
        "        nn.ReLU(),\n",
        "        nn.Linear(8, code_size)\n",
        "    )\n",
        "\n",
        "    self.decoder = nn.Sequential(\n",
        "        nn.Linear(code_size, 8),\n",
        "        nn.ReLU(),\n",
        "        nn.Linear(8, 16),\n",
        "        nn.ReLU(),\n",
        "        nn.Linear(16, 64),\n",
        "        nn.ReLU(),\n",
        "        nn.Linear(64, output_dim),\n",
        "        nn.Sigmoid()\n",
        "    )\n",
        "\n",
        "  def forward(self,x):\n",
        "    encoded = self.encoder(x)\n",
        "    decoded = self.decoder(encoded)\n",
        "    return encoded, decoded"
      ],
      "metadata": {
        "id": "cNZDB_QAL4-M"
      },
      "execution_count": null,
      "outputs": []
    },
    {
      "cell_type": "markdown",
      "source": [
        "# Denoising AE - DenoisingAutoEncoder"
      ],
      "metadata": {
        "id": "5Fu1pHbuMH79"
      }
    },
    {
      "cell_type": "code",
      "source": [
        "import tensorflow as tf\n",
        "import numpy as np\n",
        "import torch\n",
        "import torch.nn as nn\n",
        "import torch.optim as optim\n",
        "from torch.utils.data import Dataset, DataLoader\n",
        "import pandas as pd\n",
        "\n",
        "# Denoising AE : input data noising + StackedAE\n",
        "class DenoisingAutoEncoder(nn.Module):\n",
        "  def __init__(self, input_dim, output_dim, code_size=2):\n",
        "    super(DenoisingAutoEncoder,self).__init__()\n",
        "\n",
        "    self.input_dim = input_dim\n",
        "    self.output_dim = output_dim\n",
        "\n",
        "    self.encoder = nn.Sequential(\n",
        "        nn.Linear(input_dim, 64),\n",
        "        nn.ReLU(),\n",
        "        nn.Dropout(0.5),\n",
        "        nn.Linear(64, 16),\n",
        "        nn.ReLU(),\n",
        "        nn.Dropout(0.5),\n",
        "        nn.Linear(16, 8),\n",
        "        nn.ReLU(),\n",
        "        nn.Linear(8, code_size)\n",
        "    )\n",
        "\n",
        "    self.decoder = nn.Sequential(\n",
        "        nn.Linear(code_size, 8),\n",
        "        nn.ReLU(),\n",
        "        nn.Linear(8, 16),\n",
        "        nn.ReLU(),\n",
        "        nn.Linear(16, 64),\n",
        "        nn.ReLU(),\n",
        "        nn.Linear(64, output_dim),\n",
        "        nn.Sigmoid()\n",
        "    )\n",
        "\n",
        "  def forward(self,x):\n",
        "    encoded = self.encoder(x)\n",
        "    decoded = self.decoder(encoded)\n",
        "    return encoded, decoded"
      ],
      "metadata": {
        "id": "u4wD9sHdMG2J"
      },
      "execution_count": null,
      "outputs": []
    }
  ]
}